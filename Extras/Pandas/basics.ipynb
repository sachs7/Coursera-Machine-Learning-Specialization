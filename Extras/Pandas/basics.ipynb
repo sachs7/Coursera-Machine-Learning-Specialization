{
 "cells": [
  {
   "cell_type": "markdown",
   "metadata": {},
   "source": [
    "# Pandas\n",
    "\n",
    "Data can be used from [here](http://seanlahman.com/)"
   ]
  },
  {
   "cell_type": "code",
   "execution_count": 35,
   "metadata": {},
   "outputs": [],
   "source": [
    "!uv pip install -q -U pandas"
   ]
  },
  {
   "cell_type": "code",
   "execution_count": 36,
   "metadata": {},
   "outputs": [],
   "source": [
    "import pandas as pd\n",
    "import numpy as np"
   ]
  },
  {
   "cell_type": "code",
   "execution_count": 37,
   "metadata": {},
   "outputs": [
    {
     "name": "stdout",
     "output_type": "stream",
     "text": [
      "    c1  c2  c3\n",
      "r1   1   4   7\n",
      "r2   2   5   8\n",
      "r3   3   6   9\n",
      "\n",
      "    c1  c2  c3\n",
      "r1   1   4   7\n",
      "r2   2   5   8\n",
      "\n",
      "    c1  c2  c3\n",
      "r2   2   5   8\n",
      "r3   3   6   9\n",
      "\n",
      "Row1 = \n",
      "c1    1\n",
      "c2    4\n",
      "c3    7\n",
      "Name: r1, dtype: int64\n",
      "\n",
      "Row1 using index = \n",
      "c1    1\n",
      "c2    4\n",
      "c3    7\n",
      "Name: r1, dtype: int64\n"
     ]
    }
   ],
   "source": [
    "df = pd.DataFrame(\n",
    "    {\"c1\": [1, 2, 3], \"c2\": [4, 5, 6], \"c3\": [7, 8, 9]}, index=[\"r1\", \"r2\", \"r3\"]\n",
    ")\n",
    "\n",
    "print(\"{}\\n\".format(df))\n",
    "\n",
    "first_two_rows = df[0:2] # Only the first two rows are returned excluding the last row (indexed 2)\n",
    "print(\"{}\\n\".format(first_two_rows))\n",
    "\n",
    "last_two_rows = df[\"r2\":\"r3\"] # All rows from r2 to r3 are returned including r3\n",
    "print(\"{}\\n\".format(last_two_rows))\n",
    "\n",
    "# There will be a KeyError when we uncomment the line 13 and run again\n",
    "# df['r1'] # Directly accessing a row by its index is not allowed as it is not a column name\n",
    "\n",
    "# Accessing a row by its label using the loc method\n",
    "row1 = df.loc[\"r1\"]\n",
    "print(f\"Row1 = \\n{row1}\")\n",
    "\n",
    "# Accessing a row by its index using the iloc method\n",
    "row1 = df.iloc[0]\n",
    "print(f\"\\nRow1 using index = \\n{row1}\")"
   ]
  },
  {
   "cell_type": "markdown",
   "metadata": {},
   "source": [
    "## Using Loc"
   ]
  },
  {
   "cell_type": "code",
   "execution_count": 38,
   "metadata": {},
   "outputs": [
    {
     "name": "stdout",
     "output_type": "stream",
     "text": [
      "    c1  c2  c3\n",
      "r1   1   4   7\n",
      "r2   2   5   8\n",
      "r3   3   6   9\n",
      "\n",
      "c1    2\n",
      "c2    5\n",
      "c3    8\n",
      "Name: r2, dtype: int64\n",
      "\n",
      "    c1  c2  c3\n",
      "r2   2   5   8\n",
      "r3   3   6   9\n",
      "\n",
      "Single val: 4\n",
      "\n",
      "r1    4\n",
      "r3    6\n",
      "Name: c2, dtype: int64\n",
      "\n",
      "    c1  c2  c3\n",
      "r1   1   0   7\n",
      "r2   2   5   8\n",
      "r3   3   0   9\n",
      "\n",
      "\n",
      "df=    c1  c2  c3\n",
      "r1   1  12   7\n",
      "r2   2   5   8\n",
      "r3   3  12   9\n"
     ]
    }
   ],
   "source": [
    "df = pd.DataFrame(\n",
    "    {\"c1\": [1, 2, 3], \"c2\": [4, 5, 6], \"c3\": [7, 8, 9]}, index=[\"r1\", \"r2\", \"r3\"]\n",
    ")\n",
    "\n",
    "print(\"{}\\n\".format(df))\n",
    "\n",
    "print(\"{}\\n\".format(df.loc[\"r2\"]))\n",
    "\n",
    "bool_list = [False, True, True]\n",
    "print(\"{}\\n\".format(df.loc[bool_list]))\n",
    "\n",
    "single_val = df.loc[\"r1\", \"c2\"]\n",
    "print(\"Single val: {}\\n\".format(single_val))\n",
    "\n",
    "print(\"{}\\n\".format(df.loc[[\"r1\", \"r3\"], \"c2\"]))\n",
    "\n",
    "df.loc[[\"r1\", \"r3\"], \"c2\"] = 0\n",
    "print(\"{}\\n\".format(df))\n",
    "\n",
    "\n",
    "# Setting a value\n",
    "df.loc[[\"r1\", \"r3\"], \"c2\"] = 12\n",
    "print(f\"\\n{df=}\")"
   ]
  },
  {
   "cell_type": "markdown",
   "metadata": {},
   "source": [
    "## Groupby"
   ]
  },
  {
   "cell_type": "code",
   "execution_count": 39,
   "metadata": {},
   "outputs": [
    {
     "name": "stdout",
     "output_type": "stream",
     "text": [
      "   yearID teamID     H    R\n",
      "0    2017    CLE  1449  818\n",
      "1    2015    CLE  1395  669\n",
      "2    2016    BOS  1598  878\n",
      "3    2015    DET  1515  689\n",
      "4    2016    DET  1476  750\n",
      "5    2016    CLE  1435  777\n",
      "6    2015    BOS  1495  748\n",
      "7    2017    BOS  1461  785\n",
      "8    2017    DET  1435  735\n"
     ]
    }
   ],
   "source": [
    "# Create the DataFrame\n",
    "data = {\n",
    "    'yearID': [2017, 2015, 2016, 2015, 2016, 2016, 2015, 2017, 2017],\n",
    "    'teamID': ['CLE', 'CLE', 'BOS', 'DET', 'DET', 'CLE', 'BOS', 'BOS', 'DET'],\n",
    "    'H': [1449, 1395, 1598, 1515, 1476, 1435, 1495, 1461, 1435],\n",
    "    'R': [818, 669, 878, 689, 750, 777, 748, 785, 735]\n",
    "}\n",
    "\n",
    "df = pd.DataFrame(data)\n",
    "\n",
    "# Save the DataFrame to a CSV file\n",
    "# df_new.to_csv('team_stats.csv', index=False)\n",
    "\n",
    "print(df)"
   ]
  },
  {
   "cell_type": "code",
   "execution_count": 40,
   "metadata": {},
   "outputs": [
    {
     "name": "stdout",
     "output_type": "stream",
     "text": [
      "Year: 2015\n",
      "   yearID teamID     H    R\n",
      "1    2015    CLE  1395  669\n",
      "3    2015    DET  1515  689\n",
      "6    2015    BOS  1495  748\n",
      "\n",
      "Year: 2016\n",
      "   yearID teamID     H    R\n",
      "2    2016    BOS  1598  878\n",
      "4    2016    DET  1476  750\n",
      "5    2016    CLE  1435  777\n",
      "\n",
      "Year: 2017\n",
      "   yearID teamID     H    R\n",
      "0    2017    CLE  1449  818\n",
      "7    2017    BOS  1461  785\n",
      "8    2017    DET  1435  735\n",
      "\n",
      "   yearID teamID     H    R\n",
      "2    2016    BOS  1598  878\n",
      "4    2016    DET  1476  750\n",
      "5    2016    CLE  1435  777\n",
      "\n",
      "           H     R\n",
      "yearID            \n",
      "2015    4405  2106\n",
      "2016    4509  2405\n",
      "2017    4345  2338\n",
      "\n",
      "                  H           R\n",
      "yearID                         \n",
      "2015    1468.333333  702.000000\n",
      "2016    1503.000000  801.666667\n",
      "2017    1448.333333  779.333333\n",
      "\n"
     ]
    }
   ],
   "source": [
    "groups = df.groupby(\"yearID\")\n",
    "for name, group in groups:\n",
    "    print(\"Year: {}\".format(name))\n",
    "    print(\"{}\\n\".format(group))\n",
    "\n",
    "print(\"{}\\n\".format(groups.get_group(2016)))\n",
    "print(f\"{groups[['H', 'R']].sum()}\\n\")\n",
    "print(f\"{groups[['H', 'R']].mean()}\\n\")"
   ]
  },
  {
   "cell_type": "code",
   "execution_count": 41,
   "metadata": {},
   "outputs": [
    {
     "name": "stdout",
     "output_type": "stream",
     "text": [
      "   yearID teamID     H    R\n",
      "0    2017    CLE  1449  818\n",
      "2    2016    BOS  1598  878\n",
      "4    2016    DET  1476  750\n",
      "5    2016    CLE  1435  777\n",
      "7    2017    BOS  1461  785\n",
      "8    2017    DET  1435  735\n"
     ]
    }
   ],
   "source": [
    "no2015 = groups.filter(lambda x: x.name > 2015)\n",
    "print(no2015)"
   ]
  },
  {
   "cell_type": "markdown",
   "metadata": {},
   "source": [
    "## isna / notna"
   ]
  },
  {
   "cell_type": "code",
   "execution_count": 42,
   "metadata": {},
   "outputs": [
    {
     "name": "stdout",
     "output_type": "stream",
     "text": [
      "    playerID  yearID teamID  HR\n",
      "0  bettsmo01    2016    BOS  31\n",
      "1   canoro01    2016    SEA  39\n",
      "2    doejo01    2017    NaN  99\n",
      "\n",
      "0    False\n",
      "1    False\n",
      "2     True\n",
      "Name: teamID, dtype: bool\n",
      "\n",
      "0     True\n",
      "1     True\n",
      "2    False\n",
      "Name: teamID, dtype: bool\n",
      "\n"
     ]
    }
   ],
   "source": [
    "df = pd.DataFrame(\n",
    "    {\n",
    "        \"playerID\": [\"bettsmo01\", \"canoro01\", \"doejo01\"],\n",
    "        \"yearID\": [2016, 2016, 2017],\n",
    "        \"teamID\": [\"BOS\", \"SEA\", np.nan],\n",
    "        \"HR\": [31, 39, 99],\n",
    "    }\n",
    ")\n",
    "\n",
    "print(\"{}\\n\".format(df))\n",
    "\n",
    "isna = df[\"teamID\"].isna()\n",
    "print(\"{}\\n\".format(isna))\n",
    "\n",
    "notna = df[\"teamID\"].notna()\n",
    "print(\"{}\\n\".format(notna))"
   ]
  },
  {
   "cell_type": "markdown",
   "metadata": {},
   "source": [
    "## Filtering"
   ]
  },
  {
   "cell_type": "code",
   "execution_count": 43,
   "metadata": {},
   "outputs": [
    {
     "name": "stdout",
     "output_type": "stream",
     "text": [
      "    playerID  yearID teamID  HR\n",
      "0  bettsmo01    2016    BOS  31\n",
      "1   canoro01    2016    SEA  39\n",
      "2   cruzne02    2016    SEA  43\n",
      "3  ortizda01    2016    BOS  38\n",
      "4  bettsmo01    2015    BOS  18\n",
      "\n",
      "   playerID  yearID teamID  HR\n",
      "2  cruzne02    2016    SEA  43\n",
      "\n",
      "    playerID  yearID teamID  HR\n",
      "4  bettsmo01    2015    BOS  18\n",
      "\n",
      "    playerID  yearID teamID  HR\n",
      "0  bettsmo01    2016    BOS  31\n",
      "3  ortizda01    2016    BOS  38\n",
      "4  bettsmo01    2015    BOS  18\n",
      "\n"
     ]
    }
   ],
   "source": [
    "df = pd.DataFrame(\n",
    "    {\n",
    "        \"playerID\": [\"bettsmo01\", \"canoro01\", \"cruzne02\", \"ortizda01\", \"bettsmo01\"],\n",
    "        \"yearID\": [2016, 2016, 2016, 2016, 2015],\n",
    "        \"teamID\": [\"BOS\", \"SEA\", \"SEA\", \"BOS\", \"BOS\"],\n",
    "        \"HR\": [31, 39, 43, 38, 18],\n",
    "    }\n",
    ")\n",
    "\n",
    "print(\"{}\\n\".format(df))\n",
    "\n",
    "hr40_df = df[df[\"HR\"] > 40]\n",
    "print(\"{}\\n\".format(hr40_df))\n",
    "\n",
    "not_hr30_df = df[~(df[\"HR\"] > 30)]\n",
    "print(\"{}\\n\".format(not_hr30_df))\n",
    "\n",
    "str_df = df[df[\"teamID\"].str.startswith(\"B\")]\n",
    "print(\"{}\\n\".format(str_df))"
   ]
  },
  {
   "cell_type": "markdown",
   "metadata": {},
   "source": [
    "## Mean, Median, Variance, Std Deviation"
   ]
  },
  {
   "cell_type": "markdown",
   "metadata": {},
   "source": [
    "### 1. Mean (Average)\n",
    "- **Definition**: The sum of all values divided by the number of values.\n",
    "- **Use**: Represents the central value of the dataset.\n",
    "- **Formula**:  \n",
    "  Mean = (Sum of all values) / (Number of values)\n",
    "- **Example**:  \n",
    "  Dataset: 2, 4, 6, 8, 10  \n",
    "  Mean = (2 + 4 + 6 + 8 + 10) / 5 = 6  \n",
    "  **Mean = 6**\n",
    "\n",
    "---\n",
    "\n",
    "### 2. Median\n",
    "- **Definition**: The middle value when the dataset is arranged in ascending order. If there are an even number of values, it is the average of the two middle values.\n",
    "- **Use**: Represents the central point of the dataset, especially useful when the data has outliers.\n",
    "- **Steps**:\n",
    "  1. Arrange the data in ascending order.\n",
    "  2. Identify the middle value (or average the two middle values if the dataset size is even).\n",
    "- **Example**:  \n",
    "  Dataset: 2, 4, 6, 8, 10  \n",
    "  - Middle value = 6  \n",
    "  **Median = 6**  \n",
    "\n",
    "  Dataset: 2, 4, 6, 8  \n",
    "  - Middle values = 4, 6  \n",
    "  Median = (4 + 6) / 2 = 5  \n",
    "  **Median = 5**\n",
    "\n",
    "---\n",
    "\n",
    "### 3. Variance\n",
    "- **Definition**: Measures how far each value is from the mean, on average. Higher variance means the data is more spread out.\n",
    "- **Formula**:  \n",
    "  Variance = (Sum of squared deviations from the mean) / (Number of values)\n",
    "- **Example**:  \n",
    "  Dataset: 2, 4, 6, 8, 10 (Mean = 6)  \n",
    "  1. Calculate squared deviations from the mean:  \n",
    "     - (2 - 6)² = 16  \n",
    "     - (4 - 6)² = 4  \n",
    "     - (6 - 6)² = 0  \n",
    "     - (8 - 6)² = 4  \n",
    "     - (10 - 6)² = 16  \n",
    "  2. Sum of squared deviations:  \n",
    "     16 + 4 + 0 + 4 + 16 = 40  \n",
    "  3. Divide by the number of values:  \n",
    "     Variance = 40 / 5 = 8  \n",
    "  **Variance = 8**\n",
    "\n",
    "---\n",
    "\n",
    "### 4. Standard Deviation\n",
    "- **Definition**: The square root of the variance. It shows how much the values typically differ from the mean. It’s in the same units as the original data.\n",
    "- **Formula**:  \n",
    "  Standard Deviation = √(Variance)\n",
    "- **Example**:  \n",
    "  Using the variance from the previous example (8):  \n",
    "  Standard Deviation = √8 ≈ 2.83  \n",
    "  **Standard Deviation ≈ 2.83**\n",
    "\n",
    "---\n",
    "\n",
    "### Summary Table (Dataset: 2, 4, 6, 8, 10)\n",
    "\n",
    "| **Metric**            | **Value**       |\n",
    "|------------------------|-----------------|\n",
    "| Mean                  | 6               |\n",
    "| Median                | 6               |\n",
    "| Variance              | 8               |\n",
    "| Standard Deviation    | 2.83            |\n",
    "\n",
    "These metrics help summarize and understand the central tendency (mean, median) and the spread of data (variance, standard deviation).\n"
   ]
  },
  {
   "cell_type": "markdown",
   "metadata": {},
   "source": [
    "## Plot\n",
    "\n",
    "[Documentation](https://pandas.pydata.org/pandas-docs/stable/reference/api/pandas.DataFrame.plot.html#pandas.DataFrame.plot)"
   ]
  },
  {
   "cell_type": "code",
   "execution_count": 44,
   "metadata": {},
   "outputs": [],
   "source": [
    "import matplotlib.pyplot as plt"
   ]
  },
  {
   "cell_type": "code",
   "execution_count": 58,
   "metadata": {},
   "outputs": [],
   "source": [
    "df = pd.DataFrame(\n",
    "    {\n",
    "        \"playerID\": [\"bettsmo01\", \"canoro01\", \"cruzne02\", \"ortizda01\", \"bettsmo01\", \"player06\", \"player07\", \"player08\", \"player09\", \"player10\"],\n",
    "        \"yearID\": [2010, 2011, 2012, 2013, 2014, 2015, 2016, 2017, 2018, 2019],\n",
    "        \"teamID\": [\"BOS\", \"SEA\", \"SEA\", \"BOS\", \"BOS\", \"SEA\", \"SEA\", \"BOS\", \"BOS\", \"SEA\"],\n",
    "        \"HR\": [31, 39, 43, 38, 18, 22, 27, 30, 25, 20],\n",
    "    }\n",
    ")"
   ]
  },
  {
   "cell_type": "code",
   "execution_count": 59,
   "metadata": {},
   "outputs": [
    {
     "name": "stdout",
     "output_type": "stream",
     "text": [
      "    playerID  yearID teamID  HR\n",
      "0  bettsmo01    2010    BOS  31\n",
      "1   canoro01    2011    SEA  39\n",
      "2   cruzne02    2012    SEA  43\n",
      "3  ortizda01    2013    BOS  38\n",
      "4  bettsmo01    2014    BOS  18\n",
      "5   player06    2015    SEA  22\n",
      "6   player07    2016    SEA  27\n",
      "7   player08    2017    BOS  30\n",
      "8   player09    2018    BOS  25\n",
      "9   player10    2019    SEA  20\n",
      "\n"
     ]
    },
    {
     "data": {
      "image/png": "[encoded data removed]",
      "text/plain": [
       "<Figure size 640x480 with 1 Axes>"
      ]
     },
     "metadata": {},
     "output_type": "display_data"
    }
   ],
   "source": [
    "print(f\"{df}\\n\")\n",
    "\n",
    "df.plot(kind=\"line\", x=\"yearID\", y=\"HR\")\n",
    "plt.title(\"HR vs. Year\")\n",
    "plt.xlabel(\"Year\")\n",
    "plt.ylabel(\"HR Count\")\n",
    "plt.show()"
   ]
  },
  {
   "cell_type": "code",
   "execution_count": 61,
   "metadata": {},
   "outputs": [
    {
     "name": "stdout",
     "output_type": "stream",
     "text": [
      "   yearID    H   BB\n",
      "0    2000  147  117\n",
      "1    2001  156  177\n",
      "2    2002  149  198\n",
      "3    2003  133  148\n",
      "4    2004  135  232\n",
      "5    2005   12    9\n",
      "6    2006   99  115\n",
      "7    2007   94  132\n"
     ]
    }
   ],
   "source": [
    "data = {\n",
    "    'yearID': [2000, 2001, 2002, 2003, 2004, 2005, 2006, 2007],\n",
    "    'H': [147, 156, 149, 133, 135, 12, 99, 94],\n",
    "    'BB': [117, 177, 198, 148, 232, 9, 115, 132]\n",
    "}\n",
    "\n",
    "df = pd.DataFrame(data)\n",
    "print(df)"
   ]
  },
  {
   "cell_type": "code",
   "execution_count": null,
   "metadata": {},
   "outputs": [
    {
     "name": "stdout",
     "output_type": "stream",
     "text": [
      "   yearID    H   BB\n",
      "0    2000  147  117\n",
      "1    2001  156  177\n",
      "2    2002  149  198\n",
      "3    2003  133  148\n",
      "4    2004  135  232\n",
      "5    2005   12    9\n",
      "6    2006   99  115\n",
      "7    2007   94  132\n",
      "\n"
     ]
    },
    {
     "data": {
      "image/png": "[encoded data removed]",
      "text/plain": [
       "<Figure size 640x480 with 1 Axes>"
      ]
     },
     "metadata": {},
     "output_type": "display_data"
    }
   ],
   "source": [
    "print('{df}\\n')\n",
    "\n",
    "ax = plt.gca()\n",
    "\n",
    "df.plot(kind='line',x='yearID',y='H',ax=ax)\n",
    "df.plot(kind='line',x='yearID',y='BB', color='red', ax=ax)\n",
    "plt.show()"
   ]
  },
  {
   "cell_type": "markdown",
   "metadata": {},
   "source": [
    "## One-Hot Encoding"
   ]
  },
  {
   "cell_type": "code",
   "execution_count": 87,
   "metadata": {},
   "outputs": [
    {
     "name": "stdout",
     "output_type": "stream",
     "text": [
      "lgID      object\n",
      "teamID    object\n",
      "dtype: object\n"
     ]
    }
   ],
   "source": [
    "df = pd.DataFrame(\n",
    "    {\n",
    "        \"lgID\": [\"AL\", \"NL\", \"AL\", \"NL\"],\n",
    "        \"teamID\": [\"BOS\", \"PIT\", \"BOS\", \"PIT\"]\n",
    "    },\n",
    "    index=[\"bettsmo01\", \"martest01\", \"pedrodu01\", \"polangr01\"]\n",
    ")\n",
    "print(df.dtypes)"
   ]
  },
  {
   "cell_type": "code",
   "execution_count": 88,
   "metadata": {},
   "outputs": [
    {
     "name": "stdout",
     "output_type": "stream",
     "text": [
      "Original: \n",
      "          lgID teamID\n",
      "bettsmo01   AL    BOS\n",
      "martest01   NL    PIT\n",
      "pedrodu01   AL    BOS\n",
      "polangr01   NL    PIT\n",
      "converted df columns: Index(['lgID_AL', 'lgID_NL', 'teamID_BOS', 'teamID_PIT'], dtype='object')\n",
      "\n",
      "Teams: \n",
      "           teamID_BOS  teamID_PIT\n",
      "bettsmo01           1           0\n",
      "martest01           0           1\n",
      "pedrodu01           1           0\n",
      "polangr01           0           1\n",
      "\n",
      "lgIDs: \n",
      "           lgID_AL  lgID_NL\n",
      "bettsmo01        1        0\n",
      "martest01        0        1\n",
      "pedrodu01        1        0\n",
      "polangr01        0        1\n",
      "\n",
      "Converted_df: \n",
      "           lgID_AL  lgID_NL  teamID_BOS  teamID_PIT\n",
      "bettsmo01        1        0           1           0\n",
      "martest01        0        1           0           1\n",
      "pedrodu01        1        0           1           0\n",
      "polangr01        0        1           0           1\n"
     ]
    }
   ],
   "source": [
    "print(f\"Original: \\n{df}\")\n",
    "\n",
    "converted_df = pd.get_dummies(df).astype(int)\n",
    "print(f\"converted df columns: {converted_df.columns}\\n\")\n",
    "\n",
    "print(f\"Teams: \\n{converted_df[['teamID_BOS','teamID_PIT']]}\\n\")\n",
    "print(f\"lgIDs: \\n{converted_df[['lgID_AL','lgID_NL']]}\\n\")\n",
    "\t\t\t\t\t\t\t   \n",
    "print(f\"Converted_df: \\n{converted_df}\")"
   ]
  },
  {
   "cell_type": "code",
   "execution_count": 89,
   "metadata": {},
   "outputs": [
    {
     "name": "stdout",
     "output_type": "stream",
     "text": [
      "lgID_AL       int64\n",
      "lgID_NL       int64\n",
      "teamID_BOS    int64\n",
      "teamID_PIT    int64\n",
      "dtype: object\n",
      "Before conversion: \n",
      "           lgID_AL  lgID_NL  teamID_BOS  teamID_PIT\n",
      "bettsmo01        1        0           1           0\n",
      "martest01        0        1           0           1\n",
      "pedrodu01        1        0           1           0\n",
      "polangr01        0        1           0           1\n",
      "\n",
      "[[1 0 1 0]\n",
      " [0 1 0 1]\n",
      " [1 0 1 0]\n",
      " [0 1 0 1]]\n"
     ]
    }
   ],
   "source": [
    "#Convert the above one-hot encoded DataFrame into numpy array\n",
    "\n",
    "print(converted_df.dtypes)\n",
    "print(f\"Before conversion: \\n{converted_df}\\n\")\n",
    "numpy_array = converted_df.to_numpy()\n",
    "print(numpy_array)"
   ]
  }
 ],
 "metadata": {
  "kernelspec": {
   "display_name": ".venv",
   "language": "python",
   "name": "python3"
  },
  "language_info": {
   "codemirror_mode": {
    "name": "ipython",
    "version": 3
   },
   "file_extension": ".py",
   "mimetype": "text/x-python",
   "name": "python",
   "nbconvert_exporter": "python",
   "pygments_lexer": "ipython3",
   "version": "3.12.0"
  }
 },
 "nbformat": 4,
 "nbformat_minor": 2
}
