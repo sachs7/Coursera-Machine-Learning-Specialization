{
 "cells": [
  {
   "cell_type": "markdown",
   "metadata": {},
   "source": [
    "# Pandas"
   ]
  },
  {
   "cell_type": "code",
   "execution_count": 2,
   "metadata": {},
   "outputs": [],
   "source": [
    "!uv pip install -q -U pandas"
   ]
  },
  {
   "cell_type": "code",
   "execution_count": 3,
   "metadata": {},
   "outputs": [],
   "source": [
    "import pandas as pd"
   ]
  },
  {
   "cell_type": "code",
   "execution_count": 11,
   "metadata": {},
   "outputs": [
    {
     "name": "stdout",
     "output_type": "stream",
     "text": [
      "    c1  c2  c3\n",
      "r1   1   4   7\n",
      "r2   2   5   8\n",
      "r3   3   6   9\n",
      "\n",
      "    c1  c2  c3\n",
      "r1   1   4   7\n",
      "r2   2   5   8\n",
      "\n",
      "    c1  c2  c3\n",
      "r2   2   5   8\n",
      "r3   3   6   9\n",
      "\n",
      "Row1 = \n",
      "c1    1\n",
      "c2    4\n",
      "c3    7\n",
      "Name: r1, dtype: int64\n",
      "\n",
      "Row1 using index = \n",
      "c1    1\n",
      "c2    4\n",
      "c3    7\n",
      "Name: r1, dtype: int64\n"
     ]
    }
   ],
   "source": [
    "df = pd.DataFrame(\n",
    "    {\"c1\": [1, 2, 3], \"c2\": [4, 5, 6], \"c3\": [7, 8, 9]}, index=[\"r1\", \"r2\", \"r3\"]\n",
    ")\n",
    "\n",
    "print(\"{}\\n\".format(df))\n",
    "\n",
    "first_two_rows = df[0:2] # Only the first two rows are returned excluding the last row (indexed 2)\n",
    "print(\"{}\\n\".format(first_two_rows))\n",
    "\n",
    "last_two_rows = df[\"r2\":\"r3\"] # All rows from r2 to r3 are returned including r3\n",
    "print(\"{}\\n\".format(last_two_rows))\n",
    "\n",
    "# There will be a KeyError when we uncomment the line 13 and run again\n",
    "# df['r1'] # Directly accessing a row by its index is not allowed as it is not a column name\n",
    "\n",
    "# Accessing a row by its label using the loc method\n",
    "row1 = df.loc[\"r1\"]\n",
    "print(f\"Row1 = \\n{row1}\")\n",
    "\n",
    "# Accessing a row by its index using the iloc method\n",
    "row1 = df.iloc[0]\n",
    "print(f\"\\nRow1 using index = \\n{row1}\")"
   ]
  },
  {
   "cell_type": "markdown",
   "metadata": {},
   "source": [
    "## Using Loc"
   ]
  },
  {
   "cell_type": "code",
   "execution_count": 18,
   "metadata": {},
   "outputs": [
    {
     "name": "stdout",
     "output_type": "stream",
     "text": [
      "    c1  c2  c3\n",
      "r1   1   4   7\n",
      "r2   2   5   8\n",
      "r3   3   6   9\n",
      "\n",
      "c1    2\n",
      "c2    5\n",
      "c3    8\n",
      "Name: r2, dtype: int64\n",
      "\n",
      "    c1  c2  c3\n",
      "r2   2   5   8\n",
      "r3   3   6   9\n",
      "\n",
      "Single val: 4\n",
      "\n",
      "r1    4\n",
      "r3    6\n",
      "Name: c2, dtype: int64\n",
      "\n",
      "    c1  c2  c3\n",
      "r1   1   0   7\n",
      "r2   2   5   8\n",
      "r3   3   0   9\n",
      "\n",
      "\n",
      "df=    c1  c2  c3\n",
      "r1   1  12   7\n",
      "r2   2   5   8\n",
      "r3   3  12   9\n"
     ]
    }
   ],
   "source": [
    "df = pd.DataFrame(\n",
    "    {\"c1\": [1, 2, 3], \"c2\": [4, 5, 6], \"c3\": [7, 8, 9]}, index=[\"r1\", \"r2\", \"r3\"]\n",
    ")\n",
    "\n",
    "print(\"{}\\n\".format(df))\n",
    "\n",
    "print(\"{}\\n\".format(df.loc[\"r2\"]))\n",
    "\n",
    "bool_list = [False, True, True]\n",
    "print(\"{}\\n\".format(df.loc[bool_list]))\n",
    "\n",
    "single_val = df.loc[\"r1\", \"c2\"]\n",
    "print(\"Single val: {}\\n\".format(single_val))\n",
    "\n",
    "print(\"{}\\n\".format(df.loc[[\"r1\", \"r3\"], \"c2\"]))\n",
    "\n",
    "df.loc[[\"r1\", \"r3\"], \"c2\"] = 0\n",
    "print(\"{}\\n\".format(df))\n",
    "\n",
    "\n",
    "# Setting a value\n",
    "df.loc[[\"r1\", \"r3\"], \"c2\"] = 12\n",
    "print(f\"\\n{df=}\")"
   ]
  },
  {
   "cell_type": "markdown",
   "metadata": {},
   "source": [
    "## Groupby"
   ]
  },
  {
   "cell_type": "code",
   "execution_count": 23,
   "metadata": {},
   "outputs": [
    {
     "name": "stdout",
     "output_type": "stream",
     "text": [
      "   yearID teamID     H    R\n",
      "0    2017    CLE  1449  818\n",
      "1    2015    CLE  1395  669\n",
      "2    2016    BOS  1598  878\n",
      "3    2015    DET  1515  689\n",
      "4    2016    DET  1476  750\n",
      "5    2016    CLE  1435  777\n",
      "6    2015    BOS  1495  748\n",
      "7    2017    BOS  1461  785\n",
      "8    2017    DET  1435  735\n"
     ]
    }
   ],
   "source": [
    "# Create the DataFrame\n",
    "data = {\n",
    "    'yearID': [2017, 2015, 2016, 2015, 2016, 2016, 2015, 2017, 2017],\n",
    "    'teamID': ['CLE', 'CLE', 'BOS', 'DET', 'DET', 'CLE', 'BOS', 'BOS', 'DET'],\n",
    "    'H': [1449, 1395, 1598, 1515, 1476, 1435, 1495, 1461, 1435],\n",
    "    'R': [818, 669, 878, 689, 750, 777, 748, 785, 735]\n",
    "}\n",
    "\n",
    "df = pd.DataFrame(data)\n",
    "\n",
    "# Save the DataFrame to a CSV file\n",
    "# df_new.to_csv('team_stats.csv', index=False)\n",
    "\n",
    "print(df)"
   ]
  },
  {
   "cell_type": "code",
   "execution_count": 29,
   "metadata": {},
   "outputs": [
    {
     "name": "stdout",
     "output_type": "stream",
     "text": [
      "Year: 2015\n",
      "   yearID teamID     H    R\n",
      "1    2015    CLE  1395  669\n",
      "3    2015    DET  1515  689\n",
      "6    2015    BOS  1495  748\n",
      "\n",
      "Year: 2016\n",
      "   yearID teamID     H    R\n",
      "2    2016    BOS  1598  878\n",
      "4    2016    DET  1476  750\n",
      "5    2016    CLE  1435  777\n",
      "\n",
      "Year: 2017\n",
      "   yearID teamID     H    R\n",
      "0    2017    CLE  1449  818\n",
      "7    2017    BOS  1461  785\n",
      "8    2017    DET  1435  735\n",
      "\n",
      "   yearID teamID     H    R\n",
      "2    2016    BOS  1598  878\n",
      "4    2016    DET  1476  750\n",
      "5    2016    CLE  1435  777\n",
      "\n",
      "           H     R\n",
      "yearID            \n",
      "2015    4405  2106\n",
      "2016    4509  2405\n",
      "2017    4345  2338\n",
      "\n",
      "                  H           R\n",
      "yearID                         \n",
      "2015    1468.333333  702.000000\n",
      "2016    1503.000000  801.666667\n",
      "2017    1448.333333  779.333333\n",
      "\n"
     ]
    }
   ],
   "source": [
    "groups = df.groupby(\"yearID\")\n",
    "for name, group in groups:\n",
    "    print(\"Year: {}\".format(name))\n",
    "    print(\"{}\\n\".format(group))\n",
    "\n",
    "print(\"{}\\n\".format(groups.get_group(2016)))\n",
    "print(f\"{groups[['H', 'R']].sum()}\\n\")\n",
    "print(f\"{groups[['H', 'R']].mean()}\\n\")"
   ]
  },
  {
   "cell_type": "code",
   "execution_count": 30,
   "metadata": {},
   "outputs": [
    {
     "name": "stdout",
     "output_type": "stream",
     "text": [
      "   yearID teamID     H    R\n",
      "0    2017    CLE  1449  818\n",
      "2    2016    BOS  1598  878\n",
      "4    2016    DET  1476  750\n",
      "5    2016    CLE  1435  777\n",
      "7    2017    BOS  1461  785\n",
      "8    2017    DET  1435  735\n"
     ]
    }
   ],
   "source": [
    "no2015 = groups.filter(lambda x: x.name > 2015)\n",
    "print(no2015)"
   ]
  }
 ],
 "metadata": {
  "kernelspec": {
   "display_name": ".venv",
   "language": "python",
   "name": "python3"
  },
  "language_info": {
   "codemirror_mode": {
    "name": "ipython",
    "version": 3
   },
   "file_extension": ".py",
   "mimetype": "text/x-python",
   "name": "python",
   "nbconvert_exporter": "python",
   "pygments_lexer": "ipython3",
   "version": "3.12.0"
  }
 },
 "nbformat": 4,
 "nbformat_minor": 2
}
