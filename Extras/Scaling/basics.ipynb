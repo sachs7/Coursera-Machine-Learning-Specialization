{
 "cells": [
  {
   "cell_type": "markdown",
   "metadata": {},
   "source": [
    "# Feature Scaling"
   ]
  },
  {
   "cell_type": "code",
   "execution_count": 1,
   "metadata": {},
   "outputs": [],
   "source": [
    "import numpy as np\n",
    "import pandas as pd\n",
    "import matplotlib.pyplot as plt"
   ]
  },
  {
   "cell_type": "markdown",
   "metadata": {},
   "source": [
    "## Generate some random feature"
   ]
  },
  {
   "cell_type": "code",
   "execution_count": 14,
   "metadata": {},
   "outputs": [],
   "source": [
    "!uv pip install scikit-learn -q"
   ]
  },
  {
   "cell_type": "code",
   "execution_count": 89,
   "metadata": {},
   "outputs": [],
   "source": [
    "from sklearn.preprocessing import MinMaxScaler\n",
    "from sklearn.preprocessing import StandardScaler\n",
    "from sklearn.preprocessing import RobustScaler"
   ]
  },
  {
   "cell_type": "code",
   "execution_count": 77,
   "metadata": {},
   "outputs": [
    {
     "name": "stdout",
     "output_type": "stream",
     "text": [
      "[[ 1.76405235e+00  1.44043571e+02]\n",
      " [ 4.00157208e-01  1.45427351e+03]\n",
      " [ 9.78737984e-01  7.61037725e+02]\n",
      " [ 2.24089320e+00  1.21675016e+02]\n",
      " [ 1.86755799e+00  4.43863233e+02]\n",
      " [-9.77277880e-01  3.33674327e+02]\n",
      " [ 9.50088418e-01  1.49407907e+03]\n",
      " [-1.51357208e-01 -2.05158264e+02]\n",
      " [-1.03218852e-01  3.13067702e+02]\n",
      " [ 4.10598502e-01 -8.54095739e+02]]\n"
     ]
    }
   ],
   "source": [
    "np.random.seed(0)  # Seed for reproducibility\n",
    "# Create two independent random features with 10 rows\n",
    "feature_a = np.random.randn(10)  # Feature with random values from a standard normal distribution\n",
    "feature_b = np.random.randn(10) * 1e3  # Feature with random values from a normal distribution scaled by 1e3\n",
    "\n",
    "# Combine the features into a single dataset\n",
    "data_2d = np.column_stack((feature_a, feature_b))\n",
    "print(data_2d)"
   ]
  },
  {
   "cell_type": "code",
   "execution_count": 90,
   "metadata": {},
   "outputs": [
    {
     "data": {
      "text/plain": [
       "array([[ 0.70138494, -0.32341731],\n",
       "       [-0.18133875,  2.03958433],\n",
       "       [ 0.19312329,  0.78933256],\n",
       "       [ 1.0100001 , -0.36375903],\n",
       "       [ 0.76837461,  0.2173079 ],\n",
       "       [-1.07282561,  0.01858204],\n",
       "       [ 0.17458107,  2.11137373],\n",
       "       [-0.53828323, -0.95320334],\n",
       "       [-0.50712771, -0.01858204],\n",
       "       [-0.17458107, -2.12356305]])"
      ]
     },
     "execution_count": 90,
     "metadata": {},
     "output_type": "execute_result"
    }
   ],
   "source": [
    "# default_scaler = MinMaxScaler()\n",
    "# default_scaler = StandardScaler()\n",
    "default_scaler = RobustScaler() # Use this to avoid being affected by outliers\n",
    "fit_data = default_scaler.fit(data_2d)\n",
    "transform_data = default_scaler.transform(data_2d)\n",
    "transform_data"
   ]
  },
  {
   "cell_type": "code",
   "execution_count": 91,
   "metadata": {},
   "outputs": [
    {
     "data": {
      "text/plain": [
       "<matplotlib.legend.Legend at 0x11b7c7cb0>"
      ]
     },
     "execution_count": 91,
     "metadata": {},
     "output_type": "execute_result"
    },
    {
     "data": {
      "image/png": "[encoded data removed]",
      "text/plain": [
       "<Figure size 640x480 with 1 Axes>"
      ]
     },
     "metadata": {},
     "output_type": "display_data"
    }
   ],
   "source": [
    "plt.scatter(data_2d[:, 0], data_2d[:, 1], label=\"Original Data\")\n",
    "plt.scatter(\n",
    "    transform_data[:, 0], transform_data[:, 1], label=\"Transformed Data\", color=\"red\"\n",
    ")\n",
    "\n",
    "plt.xlabel(\"feature_a\")\n",
    "plt.ylabel(\"feature_b\")\n",
    "plt.legend()"
   ]
  },
  {
   "cell_type": "markdown",
   "metadata": {},
   "source": [
    "## Normalization"
   ]
  },
  {
   "cell_type": "markdown",
   "metadata": {},
   "source": [
    "The above scaling is done to the features (columns), but sometimes, scaling needs to be done to the individual data as well (rows). L2 Normalization is used in those cases, it is nothing much the square root of the sum of the squared values for that row.\n",
    "\n",
    "X=[x1, x2,...,xm]\n",
    "\n",
    "XL2 = [x1/ℓ, x2/ℓ, ....., xm/ℓ], where ℓ = Sq.root(i=1 to m ∑xi**2)"
   ]
  },
  {
   "cell_type": "code",
   "execution_count": 96,
   "metadata": {},
   "outputs": [
    {
     "data": {
      "text/plain": [
       "array([[2000,  900,  100,  700],\n",
       "       [ 900,  410,   39,  344],\n",
       "       [1232,  560,   67,  400],\n",
       "       [4012, 2032,  199, 1512]])"
      ]
     },
     "execution_count": 96,
     "metadata": {},
     "output_type": "execute_result"
    }
   ],
   "source": [
    "data = np.array([[2000,  900,  100,  700],\n",
    " [900,  410,   39,  344],\n",
    " [1232,  560,   67,  400],\n",
    " [4012, 2032,  199, 1512]])\n",
    "data"
   ]
  },
  {
   "cell_type": "code",
   "execution_count": 97,
   "metadata": {},
   "outputs": [
    {
     "name": "stdout",
     "output_type": "stream",
     "text": [
      "[[0.86792607 0.39056673 0.0433963  0.30377413]\n",
      " [0.85891432 0.39128319 0.03721962 0.32829614]\n",
      " [0.87204702 0.39638501 0.04742464 0.28313215]\n",
      " [0.84484854 0.42789936 0.0419055  0.31839756]]\n"
     ]
    }
   ],
   "source": [
    "from sklearn.preprocessing import Normalizer\n",
    "\n",
    "normalizer = Normalizer()\n",
    "transformed = normalizer.fit_transform(data)\n",
    "print(f\"{transformed}\")"
   ]
  },
  {
   "cell_type": "markdown",
   "metadata": {},
   "source": [
    "## What about missing features? (NaN)\n",
    "\n",
    "Often times, the dataset may have some missing data, there are different ways to fill those in in scikit learn:\n",
    "\n",
    "In scikit-learn, the `SimpleImputer` transformer performs four different data imputation methods.\n",
    "\n",
    "The four methods are:  \n",
    "- Using the mean value\n",
    "- Using the median value\n",
    "- Using the most frequent value\n",
    "- Filling in missing values with a constant  \n",
    "\n",
    "Advanced imputation methods such as k-Nearest Neighbors (filling in missing values based on similarity scores from the kNN algorithm) and MICE (applying multiple chained imputations, assuming the missing values are randomly distributed across observations)."
   ]
  },
  {
   "cell_type": "code",
   "execution_count": 100,
   "metadata": {},
   "outputs": [
    {
     "data": {
      "text/plain": [
       "array([[ 1.,  2., nan,  2.],\n",
       "       [ 5., nan,  1.,  2.],\n",
       "       [ 4., nan,  3., nan],\n",
       "       [ 5.,  6.,  8.,  1.],\n",
       "       [nan,  7., nan,  0.]])"
      ]
     },
     "execution_count": 100,
     "metadata": {},
     "output_type": "execute_result"
    }
   ],
   "source": [
    "data = np.array(\n",
    "    [\n",
    "        [1.0, 2.0, np.nan, 2.0],\n",
    "        [5.0, np.nan, 1.0, 2.0],\n",
    "        [4.0, np.nan, 3.0, np.nan],\n",
    "        [5.0, 6.0, 8.0, 1.0],\n",
    "        [np.nan, 7.0, np.nan, 0.0],\n",
    "    ]\n",
    ")\n",
    "data"
   ]
  },
  {
   "cell_type": "code",
   "execution_count": 102,
   "metadata": {},
   "outputs": [
    {
     "name": "stdout",
     "output_type": "stream",
     "text": [
      "[[1.   2.   4.   2.  ]\n",
      " [5.   5.   1.   2.  ]\n",
      " [4.   5.   3.   1.25]\n",
      " [5.   6.   8.   1.  ]\n",
      " [3.75 7.   4.   0.  ]]\n"
     ]
    }
   ],
   "source": [
    "from sklearn.impute import SimpleImputer\n",
    "\n",
    "imp_mean = SimpleImputer()\n",
    "transformed = imp_mean.fit_transform(data) # always prefer to use fit() and then transform() to avoid data leakage. And its easy to apply the same transformation to new data in test set as we don't want to fit the model on test set (or update the weights of the model)\n",
    "\n",
    "imp_median = SimpleImputer(strategy='median')\n",
    "print(transformed)"
   ]
  },
  {
   "cell_type": "code",
   "execution_count": 103,
   "metadata": {},
   "outputs": [
    {
     "name": "stdout",
     "output_type": "stream",
     "text": [
      "array([[ 1.,  2., nan,  2.],\n",
      "       [ 5., nan,  1.,  2.],\n",
      "       [ 4., nan,  3., nan],\n",
      "       [ 5.,  6.,  8.,  1.],\n",
      "       [nan,  7., nan,  0.]])\n",
      "\n",
      "array([[1. , 2. , 3. , 2. ],\n",
      "       [5. , 6. , 1. , 2. ],\n",
      "       [4. , 6. , 3. , 1.5],\n",
      "       [5. , 6. , 8. , 1. ],\n",
      "       [4.5, 7. , 3. , 0. ]])\n",
      "\n",
      "array([[1., 2., 1., 2.],\n",
      "       [5., 2., 1., 2.],\n",
      "       [4., 2., 3., 2.],\n",
      "       [5., 6., 8., 1.],\n",
      "       [5., 7., 1., 0.]])\n",
      "\n"
     ]
    }
   ],
   "source": [
    "# predefined data\n",
    "print(\"{}\\n\".format(repr(data)))\n",
    "\n",
    "imp_median = SimpleImputer(strategy=\"median\")\n",
    "transformed = imp_median.fit_transform(data)\n",
    "print(\"{}\\n\".format(repr(transformed)))\n",
    "\n",
    "imp_frequent = SimpleImputer(strategy=\"most_frequent\")\n",
    "transformed = imp_frequent.fit_transform(data)\n",
    "print(\"{}\\n\".format(repr(transformed)))"
   ]
  }
 ],
 "metadata": {
  "kernelspec": {
   "display_name": ".venv",
   "language": "python",
   "name": "python3"
  },
  "language_info": {
   "codemirror_mode": {
    "name": "ipython",
    "version": 3
   },
   "file_extension": ".py",
   "mimetype": "text/x-python",
   "name": "python",
   "nbconvert_exporter": "python",
   "pygments_lexer": "ipython3",
   "version": "3.12.0"
  }
 },
 "nbformat": 4,
 "nbformat_minor": 2
}
